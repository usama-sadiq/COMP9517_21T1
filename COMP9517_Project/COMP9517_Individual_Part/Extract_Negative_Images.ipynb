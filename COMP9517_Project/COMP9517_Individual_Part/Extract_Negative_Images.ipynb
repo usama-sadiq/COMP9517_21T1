{
 "cells": [
  {
   "cell_type": "markdown",
   "id": "lasting-detection",
   "metadata": {},
   "source": [
    "# COMP 9517\n",
    "\n",
    "# Usama Sadiq\n",
    "\n",
    "# z5235652\n",
    "\n",
    "# Project Individual Part"
   ]
  },
  {
   "cell_type": "markdown",
   "id": "everyday-hebrew",
   "metadata": {},
   "source": [
    "***\n",
    "## This is the second step in our project.\n",
    "\n",
    "### - The purpose of this script is to read the annotation files which were created by me using the superannotation software\n",
    "\n",
    "### - I annotated the images using the software and exported these files (annotated + images) and placed them\n",
    "### in a folder named \"Mar 29 2021 21_59\"\n",
    "\n",
    "### Rest of the process is same as the extraction of the positive images\n",
    "\n",
    "<b>Note :- In order to run this script the following should be present</b>\n",
    "\n",
    "1) This script reads annotated and images from \"Data\\\\Mar 29 2021 21_59\" where data folder is placed alongside the script.\n",
    "\n",
    "2) I have again used the 40th image frame of the clips to extract negative images\n",
    "\n",
    "3) The script will extract the top, left, right, bottom coords of the annotated box and using these coords, it will extract the images and save it for training our classifier. it will resize the extracted images to 60 * 60 as all our positive images are also of this size.\n",
    "\n",
    "<b>Note: In order for the script to save the extracted images, it assumes that there is a directory present with the name negative imgs in the data folder</b>"
   ]
  },
  {
   "cell_type": "code",
   "execution_count": 1,
   "id": "behavioral-festival",
   "metadata": {},
   "outputs": [],
   "source": [
    "import cv2 as cv\n",
    "\n",
    "import os\n",
    "\n",
    "import matplotlib.pyplot as plt\n",
    "\n",
    "import json"
   ]
  },
  {
   "cell_type": "markdown",
   "id": "sonic-being",
   "metadata": {},
   "source": [
    "***"
   ]
  },
  {
   "cell_type": "code",
   "execution_count": 2,
   "id": "other-credits",
   "metadata": {},
   "outputs": [
    {
     "name": "stdout",
     "output_type": "stream",
     "text": [
      "C:\\Users\\usama\\anaconda3\\envs\\COMP_9517_Project\\COMP_9517_Project\n"
     ]
    }
   ],
   "source": [
    "#build a list of images as we need it to extract the images\n",
    "\n",
    "print(os.getcwd())"
   ]
  },
  {
   "cell_type": "code",
   "execution_count": 3,
   "id": "similar-nickname",
   "metadata": {},
   "outputs": [],
   "source": [
    "dir_path = \"Data\\\\Mar 29 2021 21_59\\\\\"\n",
    "\n",
    "#print(os.listdir(dir_path))\n",
    "\n",
    "#list for imgs\n",
    "img_list = []\n",
    "\n",
    "#list for annotations of the images\n",
    "annotated_list = []\n",
    "\n",
    "for i in os.listdir(dir_path):\n",
    "    \n",
    "    #if the string ends with .jpg, it is an img\n",
    "    if i.endswith(\".jpg\"):\n",
    "        \n",
    "        img_list.append(i)\n",
    "        \n",
    "    else:\n",
    "    #else it is annotations    \n",
    "        annotated_list.append(i)\n",
    "        \n",
    "        \n",
    "#print(img_list)\n",
    "\n",
    "#print(annotated_list)"
   ]
  },
  {
   "cell_type": "code",
   "execution_count": 4,
   "id": "straight-london",
   "metadata": {},
   "outputs": [],
   "source": [
    "file_name = \"035.jpg.json\"\n",
    "    \n",
    "f = open(dir_path+file_name)\n",
    " \n",
    "#Read the annotations\n",
    "annotations_img = json.load(f)\n",
    "    \n",
    "f.close()\n",
    "\n",
    "#Extract the top, bottom, left and right\n",
    "img_top = annotations_img['instances'][0]['points']['y1']\n",
    "\n",
    "img_bottom = annotations_img['instances'][0]['points']['y2']\n",
    "\n",
    "img_left = annotations_img['instances'][0]['points']['x1']\n",
    "\n",
    "img_right = annotations_img['instances'][0]['points']['x2']\n",
    "    "
   ]
  },
  {
   "cell_type": "code",
   "execution_count": 5,
   "id": "understanding-optics",
   "metadata": {},
   "outputs": [
    {
     "name": "stdout",
     "output_type": "stream",
     "text": [
      "0 204.39999389648438 720 0\n"
     ]
    }
   ],
   "source": [
    "print(img_top,img_right,img_bottom,img_left)"
   ]
  },
  {
   "cell_type": "code",
   "execution_count": 6,
   "id": "spoken-analyst",
   "metadata": {},
   "outputs": [],
   "source": [
    "#this folder needs to be present\n",
    "negative_imgs_path = \"Data\\\\negative\\\\\""
   ]
  },
  {
   "cell_type": "code",
   "execution_count": 7,
   "id": "charitable-slovak",
   "metadata": {},
   "outputs": [
    {
     "name": "stdout",
     "output_type": "stream",
     "text": [
      "done.....\n"
     ]
    }
   ],
   "source": [
    "#func for reading the img and its annotations. then extract top, left, bottom and right\n",
    "def getAnnotedFile(img_name, negative_imgs_path):\n",
    "    \n",
    "    global counter\n",
    "    \n",
    "    path_dir = \"Data\\\\Mar 29 2021 21_59\\\\\"\n",
    "    \n",
    "    #print(path_dir+img_name+\".json\")\n",
    "    \n",
    "    f = open(path_dir+img_name+\".json\")\n",
    "    \n",
    "    annotations_img = json.load(f)\n",
    "    \n",
    "    f.close()\n",
    "    \n",
    "    #Extract the top, bot, left and right points\n",
    "    for j in range(len(annotations_img[\"instances\"])):\n",
    "    \n",
    "        img_top = annotations_img['instances'][j]['points']['y1']\n",
    "\n",
    "        img_bottom = annotations_img['instances'][j]['points']['y2']\n",
    "\n",
    "        img_left = annotations_img['instances'][j]['points']['x1']\n",
    "\n",
    "        img_right = annotations_img['instances'][j]['points']['x2']\n",
    "    \n",
    "        \n",
    "        #print(path_dir+img_name)\n",
    "        \n",
    "        #Read the img\n",
    "        img = cv.imread(path_dir+img_name)\n",
    "        \n",
    "        #print(img)\n",
    "        \n",
    "        #plt.imshow(img)\n",
    "        \n",
    "        #plt.show()\n",
    "        \n",
    "        #Calculate the height and width\n",
    "\n",
    "        h = abs(img_top - img_bottom)\n",
    "\n",
    "        w = abs(img_left - img_right)\n",
    "        \n",
    "        #calculate the coords and the crop the image using these points\n",
    "        \n",
    "        startY = int(img_top)\n",
    "\n",
    "        endY = int(img_bottom)\n",
    "\n",
    "        startX = int(img_left)\n",
    "\n",
    "        endX = int(img_right)\n",
    "        \n",
    "        #print(img)\n",
    "\n",
    "        cropped_img = img[startY:endY, startX: endX]\n",
    "        \n",
    "#         #plt.imshow(img)\n",
    "#         #plt.imshow(cropped_img)\n",
    "        \n",
    "#         #print(cropped_img.shape)\n",
    "        \n",
    "#         #plt.show()\n",
    "        \n",
    "        #make sure that the shape of the cropped img is greater than zero\n",
    "        if cropped_img.shape[0] > 0 and cropped_img.shape[1] > 0:\n",
    "            \n",
    "            #resize the cropped imgs to 60 * 60\n",
    "            dim = (60,60)\n",
    "            \n",
    "            resized = cv.resize(cropped_img, dim, interpolation = cv.INTER_AREA)\n",
    "            \n",
    "            saved_pwd = os.getcwd()\n",
    "\n",
    "            os.chdir(\"Data\\\\negative_imgs\\\\\")\n",
    "\n",
    "\n",
    "            cv.imwrite(str(counter) + \".png\",resized)\n",
    "\n",
    "            os.chdir(saved_pwd)\n",
    "\n",
    "            counter = counter + 1\n",
    "    \n",
    "        \n",
    "counter = 0\n",
    "\n",
    "#process all the images\n",
    "for i in img_list:\n",
    "    \n",
    "    getAnnotedFile(i, negative_imgs_path)\n",
    "    \n",
    "print(\"done.....\")"
   ]
  },
  {
   "cell_type": "code",
   "execution_count": null,
   "id": "adjusted-council",
   "metadata": {},
   "outputs": [],
   "source": []
  }
 ],
 "metadata": {
  "kernelspec": {
   "display_name": "Python 3",
   "language": "python",
   "name": "python3"
  },
  "language_info": {
   "codemirror_mode": {
    "name": "ipython",
    "version": 3
   },
   "file_extension": ".py",
   "mimetype": "text/x-python",
   "name": "python",
   "nbconvert_exporter": "python",
   "pygments_lexer": "ipython3",
   "version": "3.7.10"
  }
 },
 "nbformat": 4,
 "nbformat_minor": 5
}
