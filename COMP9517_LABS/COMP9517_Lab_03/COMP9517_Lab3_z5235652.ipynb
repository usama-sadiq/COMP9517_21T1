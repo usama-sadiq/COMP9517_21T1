{
 "cells": [
  {
   "cell_type": "markdown",
   "id": "atlantic-examination",
   "metadata": {},
   "source": [
    "# COMP9517\n",
    "\n",
    "# Usama Sadiq\n",
    "\n",
    "# z5235652\n",
    "\n",
    "# Lab 3"
   ]
  },
  {
   "cell_type": "markdown",
   "id": "czech-manchester",
   "metadata": {},
   "source": [
    "***"
   ]
  },
  {
   "cell_type": "code",
   "execution_count": 1,
   "id": "specific-transmission",
   "metadata": {},
   "outputs": [],
   "source": [
    "import tensorflow as tf\n",
    "import sklearn as sk\n",
    "import matplotlib.pyplot as plt\n",
    "from sklearn.neighbors import KNeighborsClassifier\n",
    "import numpy as np\n",
    "from sklearn import metrics\n",
    "from sklearn.linear_model import SGDClassifier\n",
    "from sklearn.tree import DecisionTreeClassifier"
   ]
  },
  {
   "cell_type": "code",
   "execution_count": 2,
   "id": "equal-primary",
   "metadata": {},
   "outputs": [
    {
     "name": "stdout",
     "output_type": "stream",
     "text": [
      "2.3.0\n"
     ]
    }
   ],
   "source": [
    "#checking the tensorflow version\n",
    "print(tf.__version__)"
   ]
  },
  {
   "cell_type": "code",
   "execution_count": 3,
   "id": "digital-solution",
   "metadata": {},
   "outputs": [
    {
     "name": "stdout",
     "output_type": "stream",
     "text": [
      "0.24.1\n"
     ]
    }
   ],
   "source": [
    "#checking the scikit learn version\n",
    "print(sk.__version__)"
   ]
  },
  {
   "cell_type": "markdown",
   "id": "light-google",
   "metadata": {},
   "source": [
    "***\n",
    "# Loading DataSet\n",
    "\n",
    "## Fashion DataSet --> Tensorflow"
   ]
  },
  {
   "cell_type": "code",
   "execution_count": 4,
   "id": "golden-bidder",
   "metadata": {},
   "outputs": [],
   "source": [
    "#dataset = fashion-MNIST\n",
    "fashion_mnist = tf.keras.datasets.fashion_mnist\n",
    "\n",
    "(train_X, train_Y), (test_X, test_Y) = fashion_mnist.load_data()"
   ]
  },
  {
   "cell_type": "markdown",
   "id": "underlying-klein",
   "metadata": {},
   "source": [
    "***\n",
    "## Classes Names in DataSet"
   ]
  },
  {
   "cell_type": "code",
   "execution_count": 5,
   "id": "cellular-battery",
   "metadata": {},
   "outputs": [],
   "source": [
    "#Class Names\n",
    "\n",
    "classes_Names = ['T_shirt/top', 'Trouser', 'Pullover', 'Dress', 'Coat', 'Sandal'\n",
    "                , 'Shirt', 'Sneaker', 'Bag', 'Ankle boot']"
   ]
  },
  {
   "cell_type": "markdown",
   "id": "reported-scoop",
   "metadata": {},
   "source": [
    "***\n",
    "# Split Training and Test Data"
   ]
  },
  {
   "cell_type": "code",
   "execution_count": 6,
   "id": "worth-retail",
   "metadata": {},
   "outputs": [
    {
     "name": "stdout",
     "output_type": "stream",
     "text": [
      "(2000, 28, 28)\n",
      "2000\n"
     ]
    }
   ],
   "source": [
    "#shapes\n",
    "\n",
    "#2000 training set and 500 test set\n",
    "train_X = train_X[:2000,:,:]\n",
    "train_Y = train_Y[:2000]\n",
    "\n",
    "print(train_X.shape)\n",
    "\n",
    "print(len(train_Y))"
   ]
  },
  {
   "cell_type": "code",
   "execution_count": 7,
   "id": "artificial-robert",
   "metadata": {},
   "outputs": [
    {
     "name": "stdout",
     "output_type": "stream",
     "text": [
      "[9 0 0 ... 3 5 8]\n"
     ]
    }
   ],
   "source": [
    "#trainY\n",
    "print(train_Y)"
   ]
  },
  {
   "cell_type": "code",
   "execution_count": 8,
   "id": "defensive-marine",
   "metadata": {},
   "outputs": [
    {
     "name": "stdout",
     "output_type": "stream",
     "text": [
      "(500, 28, 28)\n",
      "500\n"
     ]
    }
   ],
   "source": [
    "test_X = test_X[:500,:,:]\n",
    "test_Y = test_Y[:500]\n",
    "\n",
    "print(test_X.shape)\n",
    "print(len(test_Y))"
   ]
  },
  {
   "cell_type": "markdown",
   "id": "unavailable-figure",
   "metadata": {},
   "source": [
    "***\n",
    "# Print images from DataSet"
   ]
  },
  {
   "cell_type": "code",
   "execution_count": 9,
   "id": "banned-given",
   "metadata": {},
   "outputs": [
    {
     "data": {
      "image/png": "[encoded data removed]",
      "text/plain": [
       "<Figure size 432x288 with 2 Axes>"
      ]
     },
     "metadata": {
      "needs_background": "light"
     },
     "output_type": "display_data"
    }
   ],
   "source": [
    "plt.figure()\n",
    "plt.imshow(train_X[0])\n",
    "plt.colorbar()\n",
    "plt.grid(False)\n",
    "plt.show()"
   ]
  },
  {
   "cell_type": "code",
   "execution_count": 10,
   "id": "gentle-cameroon",
   "metadata": {},
   "outputs": [],
   "source": [
    "train_X = train_X / 255.0\n",
    "\n",
    "test_X = test_X / 255.0"
   ]
  },
  {
   "cell_type": "code",
   "execution_count": 11,
   "id": "grand-thirty",
   "metadata": {},
   "outputs": [
    {
     "data": {
      "image/png": "[encoded data removed]",
      "text/plain": [
       "<Figure size 720x720 with 25 Axes>"
      ]
     },
     "metadata": {},
     "output_type": "display_data"
    }
   ],
   "source": [
    "plt.figure(figsize=(10,10))\n",
    "for i in range(25):\n",
    "    plt.subplot(5,5,i+1)\n",
    "    plt.xticks([])\n",
    "    plt.yticks([])\n",
    "    plt.grid(False)\n",
    "    plt.imshow(train_X[i], cmap=plt.cm.binary)\n",
    "    plt.xlabel(classes_Names[train_Y[i]])\n",
    "plt.show()"
   ]
  },
  {
   "cell_type": "code",
   "execution_count": 12,
   "id": "popular-steering",
   "metadata": {},
   "outputs": [
    {
     "name": "stdout",
     "output_type": "stream",
     "text": [
      "(2000, 784)\n"
     ]
    }
   ],
   "source": [
    "#change the shape from 3d to 2d\n",
    "train_X = np.reshape(train_X,(2000,-1))\n",
    "print(train_X.shape)"
   ]
  },
  {
   "cell_type": "markdown",
   "id": "colonial-survival",
   "metadata": {},
   "source": [
    "***\n",
    "# KNN Classifier\n",
    "\n",
    "## - Training the model\n",
    "\n",
    "## - Prediction\n",
    "\n",
    "## - Classification Report"
   ]
  },
  {
   "cell_type": "code",
   "execution_count": 13,
   "id": "dressed-belle",
   "metadata": {},
   "outputs": [
    {
     "name": "stdout",
     "output_type": "stream",
     "text": [
      "0.905\n"
     ]
    }
   ],
   "source": [
    "#KNN\n",
    "\n",
    "model = KNeighborsClassifier(n_neighbors=2)\n",
    "\n",
    "model = model.fit(train_X, train_Y)\n",
    "\n",
    "pred = model.predict(train_X)\n",
    "\n",
    "print(metrics.accuracy_score(train_Y,pred))\n",
    "\n"
   ]
  },
  {
   "cell_type": "code",
   "execution_count": 14,
   "id": "pressed-personality",
   "metadata": {},
   "outputs": [
    {
     "name": "stdout",
     "output_type": "stream",
     "text": [
      "0.794\n"
     ]
    }
   ],
   "source": [
    "test_X = np.reshape(test_X,(500,-1))\n",
    "\n",
    "pred_test = model.predict(test_X)\n",
    "\n",
    "print(metrics.accuracy_score(test_Y,pred_test))"
   ]
  },
  {
   "cell_type": "code",
   "execution_count": 15,
   "id": "invisible-waste",
   "metadata": {},
   "outputs": [
    {
     "name": "stdout",
     "output_type": "stream",
     "text": [
      "              precision    recall  f1-score   support\n",
      "\n",
      " T_shirt/top       0.78      0.84      0.81        55\n",
      "     Trouser       0.89      0.98      0.94        52\n",
      "    Pullover       0.62      0.77      0.69        65\n",
      "       Dress       0.71      0.78      0.74        46\n",
      "        Coat       0.75      0.63      0.69        57\n",
      "      Sandal       0.94      0.87      0.91        39\n",
      "       Shirt       0.61      0.40      0.49        47\n",
      "     Sneaker       0.81      0.94      0.87        47\n",
      "         Bag       1.00      0.91      0.95        44\n",
      "  Ankle boot       0.93      0.85      0.89        48\n",
      "\n",
      "    accuracy                           0.79       500\n",
      "   macro avg       0.81      0.80      0.80       500\n",
      "weighted avg       0.80      0.79      0.79       500\n",
      "\n"
     ]
    }
   ],
   "source": [
    "print(metrics.classification_report(test_Y,pred_test,target_names=classes_Names))"
   ]
  },
  {
   "cell_type": "code",
   "execution_count": 16,
   "id": "accomplished-occurrence",
   "metadata": {},
   "outputs": [],
   "source": [
    "#print(metrics.plot_confusion_matrix(model,test_X,test_Y,display_labels=classes_Names,xticks_rotation = 'vertical'))"
   ]
  },
  {
   "cell_type": "code",
   "execution_count": 17,
   "id": "worse-underwear",
   "metadata": {},
   "outputs": [
    {
     "name": "stdout",
     "output_type": "stream",
     "text": [
      "KNN Classifier Confusion Matrix :\n",
      "[[46  2  4  2  0  0  1  0  0  0]\n",
      " [ 0 51  0  1  0  0  0  0  0  0]\n",
      " [ 3  0 50  1  6  0  5  0  0  0]\n",
      " [ 3  3  1 36  2  0  1  0  0  0]\n",
      " [ 0  1  9  6 36  0  5  0  0  0]\n",
      " [ 0  0  0  0  0 34  0  3  0  2]\n",
      " [ 6  0 14  4  4  0 19  0  0  0]\n",
      " [ 0  0  0  0  0  2  0 44  0  1]\n",
      " [ 1  0  2  1  0  0  0  0 40  0]\n",
      " [ 0  0  0  0  0  0  0  7  0 41]]\n"
     ]
    }
   ],
   "source": [
    "print(\"KNN Classifier Confusion Matrix :\")\n",
    "print(metrics.confusion_matrix(test_Y,pred_test))"
   ]
  },
  {
   "cell_type": "markdown",
   "id": "laden-comparison",
   "metadata": {},
   "source": [
    "***\n",
    "# SGD Classifier\n",
    "\n",
    "## - Training the model\n",
    "\n",
    "## - Prediction\n",
    "\n",
    "## - Classification Report"
   ]
  },
  {
   "cell_type": "code",
   "execution_count": 18,
   "id": "purple-attitude",
   "metadata": {},
   "outputs": [
    {
     "name": "stdout",
     "output_type": "stream",
     "text": [
      "0.9425\n"
     ]
    }
   ],
   "source": [
    "model_sgd = SGDClassifier(max_iter=250)\n",
    "\n",
    "model_sgd = model_sgd.fit(train_X,train_Y)\n",
    "\n",
    "pred = model_sgd.predict(train_X)\n",
    "\n",
    "print(metrics.accuracy_score(train_Y,pred))"
   ]
  },
  {
   "cell_type": "code",
   "execution_count": 19,
   "id": "entertaining-absorption",
   "metadata": {},
   "outputs": [
    {
     "name": "stdout",
     "output_type": "stream",
     "text": [
      "0.806\n"
     ]
    }
   ],
   "source": [
    "pred_test = model_sgd.predict(test_X)\n",
    "\n",
    "print(metrics.accuracy_score(test_Y,pred_test))"
   ]
  },
  {
   "cell_type": "code",
   "execution_count": 20,
   "id": "fantastic-bangkok",
   "metadata": {},
   "outputs": [
    {
     "name": "stdout",
     "output_type": "stream",
     "text": [
      "              precision    recall  f1-score   support\n",
      "\n",
      " T_shirt/top       0.92      0.80      0.85        55\n",
      "     Trouser       0.96      0.98      0.97        52\n",
      "    Pullover       0.72      0.68      0.70        65\n",
      "       Dress       0.92      0.78      0.85        46\n",
      "        Coat       0.92      0.58      0.71        57\n",
      "      Sandal       0.82      0.92      0.87        39\n",
      "       Shirt       0.43      0.79      0.55        47\n",
      "     Sneaker       0.83      0.94      0.88        47\n",
      "         Bag       1.00      0.89      0.94        44\n",
      "  Ankle boot       0.97      0.81      0.89        48\n",
      "\n",
      "    accuracy                           0.81       500\n",
      "   macro avg       0.85      0.82      0.82       500\n",
      "weighted avg       0.85      0.81      0.81       500\n",
      "\n"
     ]
    }
   ],
   "source": [
    "print(metrics.classification_report(test_Y,pred_test,target_names=classes_Names))"
   ]
  },
  {
   "cell_type": "code",
   "execution_count": 21,
   "id": "eligible-florida",
   "metadata": {},
   "outputs": [
    {
     "name": "stdout",
     "output_type": "stream",
     "text": [
      "SGD Classifier Confusion Matrix :\n",
      "[[44  0  0  1  0  0 10  0  0  0]\n",
      " [ 0 51  0  1  0  0  0  0  0  0]\n",
      " [ 0  0 44  0  3  0 18  0  0  0]\n",
      " [ 1  2  0 36  0  0  7  0  0  0]\n",
      " [ 0  0 11  0 33  0 12  1  0  0]\n",
      " [ 0  0  0  0  0 36  0  2  0  1]\n",
      " [ 3  0  6  1  0  0 37  0  0  0]\n",
      " [ 0  0  0  0  0  3  0 44  0  0]\n",
      " [ 0  0  0  0  0  2  3  0 39  0]\n",
      " [ 0  0  0  0  0  3  0  6  0 39]]\n"
     ]
    }
   ],
   "source": [
    "#print(metrics.plot_confusion_matrix(model_sgd,test_X,test_Y,display_labels=classes_Names,xticks_rotation = 'vertical'))\n",
    "\n",
    "print(\"SGD Classifier Confusion Matrix :\")\n",
    "print(metrics.confusion_matrix(test_Y,pred_test))"
   ]
  },
  {
   "cell_type": "markdown",
   "id": "acting-vegetation",
   "metadata": {},
   "source": [
    "# Decision Tree Classfier\n",
    "\n",
    "## - Training the model\n",
    "\n",
    "## - Prediction\n",
    "\n",
    "## - Classification Report"
   ]
  },
  {
   "cell_type": "code",
   "execution_count": 22,
   "id": "liable-beauty",
   "metadata": {},
   "outputs": [
    {
     "name": "stdout",
     "output_type": "stream",
     "text": [
      "1.0\n"
     ]
    }
   ],
   "source": [
    "model_decision_tree = DecisionTreeClassifier(random_state=0)\n",
    "\n",
    "model_decision_tree = model_decision_tree.fit(train_X,train_Y)\n",
    "\n",
    "pred = model_decision_tree.predict(train_X)\n",
    "\n",
    "print(metrics.accuracy_score(train_Y,pred))"
   ]
  },
  {
   "cell_type": "code",
   "execution_count": 23,
   "id": "spare-insider",
   "metadata": {},
   "outputs": [
    {
     "name": "stdout",
     "output_type": "stream",
     "text": [
      "0.712\n"
     ]
    }
   ],
   "source": [
    "pred_test = model_decision_tree.predict(test_X)\n",
    "\n",
    "print(metrics.accuracy_score(test_Y,pred_test))"
   ]
  },
  {
   "cell_type": "code",
   "execution_count": 24,
   "id": "dressed-immigration",
   "metadata": {},
   "outputs": [
    {
     "name": "stdout",
     "output_type": "stream",
     "text": [
      "              precision    recall  f1-score   support\n",
      "\n",
      " T_shirt/top       0.85      0.82      0.83        55\n",
      "     Trouser       0.88      0.88      0.88        52\n",
      "    Pullover       0.57      0.51      0.54        65\n",
      "       Dress       0.56      0.76      0.65        46\n",
      "        Coat       0.56      0.44      0.49        57\n",
      "      Sandal       0.86      0.82      0.84        39\n",
      "       Shirt       0.43      0.45      0.44        47\n",
      "     Sneaker       0.84      0.91      0.88        47\n",
      "         Bag       0.79      0.75      0.77        44\n",
      "  Ankle boot       0.84      0.90      0.87        48\n",
      "\n",
      "    accuracy                           0.71       500\n",
      "   macro avg       0.72      0.72      0.72       500\n",
      "weighted avg       0.71      0.71      0.71       500\n",
      "\n"
     ]
    }
   ],
   "source": [
    "print(metrics.classification_report(test_Y,pred_test,target_names=classes_Names))"
   ]
  },
  {
   "cell_type": "code",
   "execution_count": 25,
   "id": "present-tattoo",
   "metadata": {},
   "outputs": [
    {
     "name": "stdout",
     "output_type": "stream",
     "text": [
      "Decision Tree Classifier Confusion Matrix :\n",
      "[[45  0  0  4  2  0  4  0  0  0]\n",
      " [ 1 46  0  4  0  1  0  0  0  0]\n",
      " [ 1  1 33  3 12  2  9  1  2  1]\n",
      " [ 2  2  3 35  1  0  3  0  0  0]\n",
      " [ 0  2 13  6 25  0  9  0  2  0]\n",
      " [ 1  0  0  0  0 32  0  3  2  1]\n",
      " [ 2  1  8 10  2  0 21  0  3  0]\n",
      " [ 0  0  0  0  0  1  0 43  0  3]\n",
      " [ 1  0  1  0  3  0  3  0 33  3]\n",
      " [ 0  0  0  0  0  1  0  4  0 43]]\n"
     ]
    }
   ],
   "source": [
    "#print(metrics.plot_confusion_matrix(model_decision_tree,test_X,test_Y,display_labels=classes_Names,xticks_rotation = 'vertical'))\n",
    "\n",
    "print(\"Decision Tree Classifier Confusion Matrix :\")\n",
    "print(metrics.confusion_matrix(test_Y,pred_test))"
   ]
  },
  {
   "cell_type": "markdown",
   "id": "norwegian-camcorder",
   "metadata": {},
   "source": [
    "# References\n",
    "\n",
    "1) https://www.tensorflow.org/tutorials/keras/classification"
   ]
  },
  {
   "cell_type": "code",
   "execution_count": null,
   "id": "static-advocacy",
   "metadata": {},
   "outputs": [],
   "source": []
  }
 ],
 "metadata": {
  "kernelspec": {
   "display_name": "Python 3",
   "language": "python",
   "name": "python3"
  },
  "language_info": {
   "codemirror_mode": {
    "name": "ipython",
    "version": 3
   },
   "file_extension": ".py",
   "mimetype": "text/x-python",
   "name": "python",
   "nbconvert_exporter": "python",
   "pygments_lexer": "ipython3",
   "version": "3.7.10"
  }
 },
 "nbformat": 4,
 "nbformat_minor": 5
}
